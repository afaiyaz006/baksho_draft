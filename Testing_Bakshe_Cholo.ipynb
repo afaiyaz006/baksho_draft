{
 "cells": [
  {
   "cell_type": "code",
   "execution_count": 1,
   "id": "082b838a",
   "metadata": {},
   "outputs": [
    {
     "name": "stdout",
     "output_type": "stream",
     "text": [
      "Test Passed\n",
      "Bakshe Cholo\n"
     ]
    }
   ],
   "source": [
    "                                        # opening website using selenium\n",
    "\n",
    "from selenium import webdriver\n",
    "from selenium.webdriver.chrome.service import Service  \n",
    "from selenium.common.exceptions import NoSuchElementException, ElementClickInterceptedException\n",
    "from selenium.webdriver.common.by import By\n",
    "import time\n",
    "\n",
    "path='C:\\Program Files (x86)\\chromedriver_win32\\chromedriver.exe' #Version 106.0.5249.119 (Official Build) (64-bit)\n",
    "driver=webdriver.Chrome(service=Service(path)) \n",
    "driver.get('http://127.0.0.1:8000/')\n",
    "driver.set_window_size(1120, 1000)\n",
    "print(\"Test Passed\")\n",
    "print(driver.title)\n",
    "\n",
    "\n",
    "\n",
    "\n",
    "#https://stackoverflow.com/questions/72354624/what-does-selenium-service-class-do"
   ]
  },
  {
   "cell_type": "code",
   "execution_count": 4,
   "id": "2890f064",
   "metadata": {},
   "outputs": [
    {
     "name": "stdout",
     "output_type": "stream",
     "text": [
      "Home Test Passed\n",
      "maps_form Test Passed\n"
     ]
    }
   ],
   "source": [
    "                                          #navbar testing\n",
    "    \n",
    "    \n",
    "                                    #Testing home and maps_form\n",
    "\n",
    "from selenium import webdriver\n",
    "from selenium.webdriver.chrome.service import Service  \n",
    "from selenium.common.exceptions import NoSuchElementException, ElementClickInterceptedException\n",
    "from selenium.webdriver.common.by import By\n",
    "import time\n",
    "\n",
    "path='C:\\Program Files (x86)\\chromedriver_win32\\chromedriver.exe'\n",
    "driver=webdriver.Chrome(service=Service(path)) \n",
    "driver.get('http://127.0.0.1:8000/')\n",
    "driver.set_window_size(1120, 1000)\n",
    "                                            #Testing home\n",
    "\n",
    "try:\n",
    "    driver.find_element('xpath', '/html/body/nav/ul[2]/li[1]/a').click()\n",
    "except NoSuchElementException:\n",
    "    print(\"Cant Find the element\")\n",
    "    \n",
    "print(\"Home Test Passed\")\n",
    "time.sleep(2)\n",
    "\n",
    "                                        #maps_form Testing\n",
    "try:\n",
    "    driver.find_element('xpath', '/html/body/nav/ul[2]/li[2]').click()\n",
    "except NoSuchElementException:\n",
    "    print(\"Cant Find the element\")\n",
    "    \n",
    "    \n",
    "print(\"maps_form Test Passed\")\n",
    "time.sleep(2)"
   ]
  },
  {
   "cell_type": "code",
   "execution_count": 2,
   "id": "d2f5d846",
   "metadata": {},
   "outputs": [
    {
     "name": "stdout",
     "output_type": "stream",
     "text": [
      "Login Test passed\n",
      "Co-ordinate testing done\n",
      "Search Button Test passed\n",
      "User Logout passed\n",
      "Login Again Test Passed\n"
     ]
    }
   ],
   "source": []
  },
  {
   "cell_type": "code",
   "execution_count": 16,
   "id": "87dbc9aa",
   "metadata": {},
   "outputs": [
    {
     "name": "stdout",
     "output_type": "stream",
     "text": [
      "SignUp test passed for User\n",
      "Co-ordinate testing for User is done\n",
      "User Logout passed\n",
      "Login Again Test Passed\n"
     ]
    }
   ],
   "source": [
    "from selenium import webdriver\n",
    "from selenium.webdriver.chrome.service import Service  \n",
    "from selenium.common.exceptions import NoSuchElementException, ElementClickInterceptedException\n",
    "from selenium.webdriver.common.by import By\n",
    "from selenium.webdriver.support.ui import Select\n",
    "import time\n",
    "\n",
    "path='C:\\Program Files (x86)\\chromedriver_win32\\chromedriver.exe'\n",
    "driver=webdriver.Chrome(service=Service(path)) \n",
    "driver.get('http://127.0.0.1:8000/')\n",
    "driver.set_window_size(1120, 1000)\n",
    "time.sleep(2)\n",
    "\n",
    "                                            #signup testing for User\n",
    "\n",
    "try:\n",
    "    driver.find_element('xpath', '/html/body/main/article/a[2]/button').click()\n",
    "except NoSuchElementException:\n",
    "    print(\"Cant Find the element\")\n",
    "    \n",
    "driver.find_element(By.NAME,'username').send_keys('Splash')\n",
    "driver.find_element(By.NAME,'userType').send_keys('Regular User')\n",
    "driver.find_element(By.ID,'id_password1').send_keys('dUqMi3bj9GgdiNz')\n",
    "driver.find_element(By.ID,'id_password2').send_keys('dUqMi3bj9GgdiNz')\n",
    "driver.find_element(By.XPATH,'/html/body/main/article/form/figure/button').click()\n",
    "print(\"SignUp test passed for User\")\n",
    "\n",
    "\n",
    "                                                    #Co-ordinate Testing\n",
    "\n",
    "try:\n",
    "    driver.find_element('xpath', '/html/body/main/article/h1[2]/a').click()\n",
    "except NoSuchElementException:\n",
    "    print(\"Cant Find the element\") \n",
    "    \n",
    "driver.find_element(By.NAME,'lat').send_keys('90.37946713882394') \n",
    "driver.find_element(By.NAME,'lon').send_keys('23.751834631061925')\n",
    "driver.find_element('xpath', '/html/body/main/div[2]/form/input[2]').click()\n",
    "print(\"Co-ordinate testing for User is done\")\n",
    "time.sleep(10)\n",
    "\n",
    "                                            #Logout Testing\n",
    "\n",
    "driver.find_element(By.XPATH,'/html/body/nav/ul[2]/li[4]/a').click()\n",
    "print(\"User Logout passed\")\n",
    "time.sleep(2)\n",
    "\n",
    "                                    #Login Again (Return to Home) Test\n",
    "    \n",
    "driver.find_element(By.XPATH,'/html/body/main/a').click()\n",
    "print(\"Login Again Test Passed\")\n",
    "\n",
    "\n"
   ]
  },
  {
   "cell_type": "code",
   "execution_count": 17,
   "id": "5e2fe922",
   "metadata": {},
   "outputs": [
    {
     "name": "stdout",
     "output_type": "stream",
     "text": [
      "SignUp test passed for Bus Driver\n",
      "Co-ordinate testing for bus driver is done\n",
      "Bus Driver Logout passed\n",
      "Login Again Test Passed\n"
     ]
    }
   ],
   "source": [
    "from selenium import webdriver\n",
    "from selenium.webdriver.chrome.service import Service  \n",
    "from selenium.common.exceptions import NoSuchElementException, ElementClickInterceptedException\n",
    "from selenium.webdriver.common.by import By\n",
    "from selenium.webdriver.support.ui import Select\n",
    "import time\n",
    "\n",
    "path='C:\\Program Files (x86)\\chromedriver_win32\\chromedriver.exe'\n",
    "driver=webdriver.Chrome(service=Service(path)) \n",
    "driver.get('http://127.0.0.1:8000/')\n",
    "driver.set_window_size(1120, 1000)\n",
    "time.sleep(2)\n",
    "\n",
    "                                            #signup testing for Bus Driver\n",
    "\n",
    "try:\n",
    "    driver.find_element('xpath', '/html/body/main/article/a[2]/button').click()\n",
    "except NoSuchElementException:\n",
    "    print(\"Cant Find the element\")\n",
    "    \n",
    "driver.find_element(By.NAME,'username').send_keys('Thomas')\n",
    "driver.find_element(By.NAME,'userType').send_keys('Bus Driver')\n",
    "driver.find_element(By.ID,'id_password1').send_keys('dUqMi3bj9GgdiNX')\n",
    "driver.find_element(By.ID,'id_password2').send_keys('dUqMi3bj9GgdiNX')\n",
    "driver.find_element(By.XPATH,'/html/body/main/article/form/figure/button').click()\n",
    "print(\"SignUp test passed for Bus Driver\")\n",
    "\n",
    "                                                    #Co-ordinate Testing\n",
    "\n",
    "try:\n",
    "    driver.find_element('xpath', '/html/body/main/article/h1[2]/a').click()\n",
    "except NoSuchElementException:\n",
    "    print(\"Cant Find the element\") \n",
    "    \n",
    "driver.find_element(By.NAME,'lat').send_keys('90.38688426766714') \n",
    "driver.find_element(By.NAME,'lon').send_keys('23.751282793921426')\n",
    "driver.find_element('xpath', '/html/body/main/div[2]/form/input[2]').click()\n",
    "print(\"Co-ordinate testing for bus driver is done\")\n",
    "time.sleep(10)\n",
    "\n",
    "                                            #Logout Testing\n",
    "\n",
    "driver.find_element(By.XPATH,'/html/body/nav/ul[2]/li[4]/a').click()\n",
    "print(\"Bus Driver Logout passed\")\n",
    "time.sleep(2)\n",
    "\n",
    "\n",
    "                                        #Login Again (Return to Home) Test\n",
    "    \n",
    "driver.find_element(By.XPATH,'/html/body/main/a').click()\n",
    "print(\"Login Again Test Passed\")\n",
    "\n"
   ]
  },
  {
   "cell_type": "code",
   "execution_count": 21,
   "id": "ac660abc",
   "metadata": {},
   "outputs": [
    {
     "name": "stdout",
     "output_type": "stream",
     "text": [
      "Login Test passed\n",
      "Co-ordinate testing done\n",
      "Search Button Test passed\n",
      "User Logout passed\n",
      "Login Again Test Passed\n"
     ]
    }
   ],
   "source": [
    "                                       \n",
    "from selenium import webdriver\n",
    "from selenium.webdriver.chrome.service import Service  \n",
    "from selenium.common.exceptions import NoSuchElementException, ElementClickInterceptedException\n",
    "from selenium.webdriver.common.by import By\n",
    "from selenium.webdriver.support.ui import Select\n",
    "import time\n",
    "\n",
    "path='C:\\Program Files (x86)\\chromedriver_win32\\chromedriver.exe'\n",
    "driver=webdriver.Chrome(service=Service(path)) \n",
    "driver.get('http://127.0.0.1:8000/')\n",
    "driver.set_window_size(1120, 1000)\n",
    "time.sleep(2)\n",
    "                                             #Testing login\n",
    "\n",
    "try:\n",
    "    driver.find_element('xpath', '/html/body/main/article/a[1]/button').click()\n",
    "except NoSuchElementException:\n",
    "    print(\"Cant Find the element\")    \n",
    "time.sleep(1)\n",
    "\n",
    "driver.find_element(By.NAME,'username').send_keys('Splash')\n",
    "driver.find_element(By.NAME,'password').send_keys('dUqMi3bj9GgdiNz')\n",
    "driver.find_element('xpath', '/html/body/main/article/div[1]/form/input[2]').click()\n",
    "print(\"Login Test passed\")\n",
    "time.sleep(2)\n",
    "                                                #Co-ordinate Testing\n",
    "\n",
    "try:\n",
    "    driver.find_element('xpath', '/html/body/main/article/h1[2]/a').click()\n",
    "except NoSuchElementException:\n",
    "    print(\"Cant Find the element\") \n",
    "#driver.find_element('xpath', '/html/body/main/div[3]/div[1]/a').click()\n",
    "driver.find_element(By.NAME,'lat').send_keys('90.37946713882394')\n",
    "driver.find_element(By.NAME,'lon').send_keys('23.751834631061925')\n",
    "driver.find_element('xpath', '/html/body/main/div[2]/form/input[2]').click()\n",
    "print(\"Co-ordinate testing done\")\n",
    "time.sleep(5)\n",
    "\n",
    "\n",
    "                                            #Search profile Test\n",
    "    \n",
    "driver.find_element(By.XPATH,'/html/body/nav/ul[2]/li[3]/a').click()\n",
    "driver.find_element(By.ID, 'search').send_keys('Skylar')\n",
    "driver.find_element(By.XPATH,'/html/body/main/main/form/button').click()\n",
    "print(\"Search Button Test passed\")\n",
    "time.sleep(2)\n",
    "\n",
    "                                                #Logout Testing\n",
    "\n",
    "driver.find_element(By.XPATH,'/html/body/nav/ul[2]/li[4]/a').click()\n",
    "print(\"User Logout passed\")\n",
    "time.sleep(2)\n",
    "\n",
    "\n",
    "                                        #Login Again (Return to Home) Test\n",
    "    \n",
    "driver.find_element(By.XPATH,'/html/body/main/a').click()\n",
    "print(\"Login Again Test Passed\")\n",
    "\n",
    "\n",
    "\n",
    "\n",
    "\n",
    "#https://stackoverflow.com/questions/72773206/selenium-python-attributeerror-webdriver-object-has-no-attribute-find-el"
   ]
  },
  {
   "cell_type": "code",
   "execution_count": 18,
   "id": "93a8c5ce",
   "metadata": {},
   "outputs": [
    {
     "name": "stdout",
     "output_type": "stream",
     "text": [
      "GoodBye Uber\n"
     ]
    }
   ],
   "source": [
    "print(\"GoodBye Uber\")"
   ]
  },
  {
   "cell_type": "code",
   "execution_count": null,
   "id": "fc220b7c",
   "metadata": {},
   "outputs": [],
   "source": []
  }
 ],
 "metadata": {
  "kernelspec": {
   "display_name": "Python 3 (ipykernel)",
   "language": "python",
   "name": "python3"
  },
  "language_info": {
   "codemirror_mode": {
    "name": "ipython",
    "version": 3
   },
   "file_extension": ".py",
   "mimetype": "text/x-python",
   "name": "python",
   "nbconvert_exporter": "python",
   "pygments_lexer": "ipython3",
   "version": "3.10.5"
  }
 },
 "nbformat": 4,
 "nbformat_minor": 5
}
