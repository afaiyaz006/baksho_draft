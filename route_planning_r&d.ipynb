{
 "cells": [
  {
   "cell_type": "markdown",
   "id": "69b37756",
   "metadata": {},
   "source": [
    "Import Important Packages 📦"
   ]
  },
  {
   "cell_type": "code",
   "execution_count": null,
   "metadata": {},
   "outputs": [
    {
     "ename": "",
     "evalue": "",
     "output_type": "error",
     "traceback": [
      "\u001b[1;31mRunning cells with 'Python 3.10.6 ('ox')' requires ipykernel package.\n",
      "\u001b[1;31mRun the following command to install 'ipykernel' into the Python environment. \n",
      "\u001b[1;31mCommand: 'conda install -n ox ipykernel --update-deps --force-reinstall'"
     ]
    }
   ],
   "source": [
    "import osmnx as ox\n",
    "import networkx as nx\n",
    "import folium # Marker class only accepts coordinates in tuple form\n",
    "import os\n"
   ]
  },
  {
   "cell_type": "code",
   "execution_count": 30,
   "id": "f69018bd",
   "metadata": {},
   "outputs": [],
   "source": [
    "class LocationWorker:\n",
    "    '''\n",
    "        Location API for easy interfacing\n",
    "    '''\n",
    "    def __init__(self,mode:str,optimizer:str):\n",
    "        ox.config(log_console=True,use_cache=True)\n",
    "        self.mode=mode\n",
    "        self.optimizer=optimizer\n",
    "        self.file_path=\"E:/gis_track/baksho_draft/osm_files/UAP_To_Farmgate.osm\"\n",
    "        self.graph=ox.graph_from_xml(self.file_path,simplify=True,retain_all=False)\n",
    "\n",
    "    def calculate_shorted_distance(self,loc_a,loc_b):\n",
    "        #ox.nearest_nodes(self.graph,lon:float,lat:float)\n",
    "        loc_a_node=ox.nearest_nodes(self.graph,loc_a[1],loc_a[0])\n",
    "        loc_b_node=ox.nearest_nodes(self.graph,loc_b[1],loc_b[0])\n",
    "        print(loc_a_node)\n",
    "        print(loc_b_node)\n",
    "        shortest_route = nx.shortest_path(self.graph,\n",
    "                                  loc_a_node,\n",
    "                                  loc_b_node,\n",
    "                                  weight=self.optimizer)\n",
    "        print(shortest_route)\n",
    "        shortest_route_map=ox.plot_route_folium(self.graph, shortest_route)\n",
    "        start_latlng = (loc_a[0],loc_a[1])\n",
    "        end_latlng   = (loc_b[0],loc_b[1])\n",
    "        start_marker = folium.Marker(\n",
    "            location = start_latlng,\n",
    "            icon = folium.Icon(color='green')\n",
    "        )\n",
    "        end_marker = folium.Marker(\n",
    "            location = end_latlng,\n",
    "            icon = folium.Icon(color='red')\n",
    "        )# add the circle marker to the map\n",
    "        start_marker.add_to(shortest_route_map)\n",
    "        end_marker.add_to(shortest_route_map)\n",
    "        return shortest_route_map\n",
    "\n",
    "    def get_graph(self):\n",
    "        return self.graph\n"
   ]
  },
  {
   "cell_type": "markdown",
   "id": "17700f4f",
   "metadata": {},
   "source": [
    "Testing location API"
   ]
  },
  {
   "cell_type": "code",
   "execution_count": 31,
   "id": "ab749e27",
   "metadata": {},
   "outputs": [
    {
     "name": "stderr",
     "output_type": "stream",
     "text": [
      "e:\\conda_space\\envs\\ox\\lib\\site-packages\\osmnx\\utils.py:192: UserWarning: The `utils.config` function is deprecated and will be removed in a future release. Instead, use the `settings` module directly to configure a global setting's value. For example, `ox.settings.log_console=True`.\n",
      "  warnings.warn(\n"
     ]
    }
   ],
   "source": [
    "l=LocationWorker('walk','time')"
   ]
  },
  {
   "cell_type": "markdown",
   "id": "cf1f1d90",
   "metadata": {},
   "source": [
    "location API object created."
   ]
  },
  {
   "cell_type": "code",
   "execution_count": 32,
   "id": "11541c31",
   "metadata": {},
   "outputs": [
    {
     "name": "stdout",
     "output_type": "stream",
     "text": [
      "6557338447\n",
      "386839807\n",
      "[6557338447, 4881182148, 4998656124, 4896769884, 3009569142, 7030534125, 2320379648, 1554752677, 1990872077, 292225029, 386839807]\n"
     ]
    },
    {
     "data": {
      "text/html": [
       "<div style=\"width:100%;\"><div style=\"position:relative;width:100%;height:0;padding-bottom:60%;\"><span style=\"color:#565656\">Make this Notebook Trusted to load map: File -> Trust Notebook</span><iframe srcdoc=\"&lt;!DOCTYPE html&gt;\n",
       "&lt;head&gt;    \n",
       "    &lt;meta http-equiv=&quot;content-type&quot; content=&quot;text/html; charset=UTF-8&quot; /&gt;\n",
       "    \n",
       "        &lt;script&gt;\n",
       "            L_NO_TOUCH = false;\n",
       "            L_DISABLE_3D = false;\n",
       "        &lt;/script&gt;\n",
       "    \n",
       "    &lt;style&gt;html, body {width: 100%;height: 100%;margin: 0;padding: 0;}&lt;/style&gt;\n",
       "    &lt;style&gt;#map {position:absolute;top:0;bottom:0;right:0;left:0;}&lt;/style&gt;\n",
       "    &lt;script src=&quot;https://cdn.jsdelivr.net/npm/leaflet@1.6.0/dist/leaflet.js&quot;&gt;&lt;/script&gt;\n",
       "    &lt;script src=&quot;https://code.jquery.com/jquery-1.12.4.min.js&quot;&gt;&lt;/script&gt;\n",
       "    &lt;script src=&quot;https://maxcdn.bootstrapcdn.com/bootstrap/3.2.0/js/bootstrap.min.js&quot;&gt;&lt;/script&gt;\n",
       "    &lt;script src=&quot;https://cdnjs.cloudflare.com/ajax/libs/Leaflet.awesome-markers/2.0.2/leaflet.awesome-markers.js&quot;&gt;&lt;/script&gt;\n",
       "    &lt;link rel=&quot;stylesheet&quot; href=&quot;https://cdn.jsdelivr.net/npm/leaflet@1.6.0/dist/leaflet.css&quot;/&gt;\n",
       "    &lt;link rel=&quot;stylesheet&quot; href=&quot;https://maxcdn.bootstrapcdn.com/bootstrap/3.2.0/css/bootstrap.min.css&quot;/&gt;\n",
       "    &lt;link rel=&quot;stylesheet&quot; href=&quot;https://maxcdn.bootstrapcdn.com/bootstrap/3.2.0/css/bootstrap-theme.min.css&quot;/&gt;\n",
       "    &lt;link rel=&quot;stylesheet&quot; href=&quot;https://maxcdn.bootstrapcdn.com/font-awesome/4.6.3/css/font-awesome.min.css&quot;/&gt;\n",
       "    &lt;link rel=&quot;stylesheet&quot; href=&quot;https://cdnjs.cloudflare.com/ajax/libs/Leaflet.awesome-markers/2.0.2/leaflet.awesome-markers.css&quot;/&gt;\n",
       "    &lt;link rel=&quot;stylesheet&quot; href=&quot;https://cdn.jsdelivr.net/gh/python-visualization/folium/folium/templates/leaflet.awesome.rotate.min.css&quot;/&gt;\n",
       "    \n",
       "            &lt;meta name=&quot;viewport&quot; content=&quot;width=device-width,\n",
       "                initial-scale=1.0, maximum-scale=1.0, user-scalable=no&quot; /&gt;\n",
       "            &lt;style&gt;\n",
       "                #map_2dfbfd85d11c489d5dc069ad9568e1ea {\n",
       "                    position: relative;\n",
       "                    width: 100.0%;\n",
       "                    height: 100.0%;\n",
       "                    left: 0.0%;\n",
       "                    top: 0.0%;\n",
       "                }\n",
       "            &lt;/style&gt;\n",
       "        \n",
       "&lt;/head&gt;\n",
       "&lt;body&gt;    \n",
       "    \n",
       "            &lt;div class=&quot;folium-map&quot; id=&quot;map_2dfbfd85d11c489d5dc069ad9568e1ea&quot; &gt;&lt;/div&gt;\n",
       "        \n",
       "&lt;/body&gt;\n",
       "&lt;script&gt;    \n",
       "    \n",
       "            var map_2dfbfd85d11c489d5dc069ad9568e1ea = L.map(\n",
       "                &quot;map_2dfbfd85d11c489d5dc069ad9568e1ea&quot;,\n",
       "                {\n",
       "                    center: [23.75747983056378, 90.38980551098457],\n",
       "                    crs: L.CRS.EPSG3857,\n",
       "                    zoom: 1,\n",
       "                    zoomControl: true,\n",
       "                    preferCanvas: false,\n",
       "                }\n",
       "            );\n",
       "\n",
       "            \n",
       "\n",
       "        \n",
       "    \n",
       "            var tile_layer_27b16a2a3f5a582c8aa52342e8fd9e6a = L.tileLayer(\n",
       "                &quot;https://cartodb-basemaps-{s}.global.ssl.fastly.net/light_all/{z}/{x}/{y}.png&quot;,\n",
       "                {&quot;attribution&quot;: &quot;\\u0026copy; \\u003ca href=\\&quot;http://www.openstreetmap.org/copyright\\&quot;\\u003eOpenStreetMap\\u003c/a\\u003e contributors \\u0026copy; \\u003ca href=\\&quot;http://cartodb.com/attributions\\&quot;\\u003eCartoDB\\u003c/a\\u003e, CartoDB \\u003ca href =\\&quot;http://cartodb.com/attributions\\&quot;\\u003eattributions\\u003c/a\\u003e&quot;, &quot;detectRetina&quot;: false, &quot;maxNativeZoom&quot;: 18, &quot;maxZoom&quot;: 18, &quot;minZoom&quot;: 0, &quot;noWrap&quot;: false, &quot;opacity&quot;: 1, &quot;subdomains&quot;: &quot;abc&quot;, &quot;tms&quot;: false}\n",
       "            ).addTo(map_2dfbfd85d11c489d5dc069ad9568e1ea);\n",
       "        \n",
       "    \n",
       "            var poly_line_3dde13b091db0461b2581f83a516bb2a = L.polyline(\n",
       "                [[23.7552083, 90.3891357], [23.7552443, 90.3890733]],\n",
       "                {&quot;bubblingMouseEvents&quot;: true, &quot;color&quot;: &quot;#3388ff&quot;, &quot;dashArray&quot;: null, &quot;dashOffset&quot;: null, &quot;fill&quot;: false, &quot;fillColor&quot;: &quot;#3388ff&quot;, &quot;fillOpacity&quot;: 0.2, &quot;fillRule&quot;: &quot;evenodd&quot;, &quot;lineCap&quot;: &quot;round&quot;, &quot;lineJoin&quot;: &quot;round&quot;, &quot;noClip&quot;: false, &quot;opacity&quot;: 1.0, &quot;smoothFactor&quot;: 1.0, &quot;stroke&quot;: true, &quot;weight&quot;: 3}\n",
       "            ).addTo(map_2dfbfd85d11c489d5dc069ad9568e1ea);\n",
       "        \n",
       "    \n",
       "            var poly_line_851cb88e1cca5cb8deec6a7ed9e3c66d = L.polyline(\n",
       "                [[23.7552443, 90.3890733], [23.7554273, 90.3891718], [23.7554778, 90.3891975]],\n",
       "                {&quot;bubblingMouseEvents&quot;: true, &quot;color&quot;: &quot;#3388ff&quot;, &quot;dashArray&quot;: null, &quot;dashOffset&quot;: null, &quot;fill&quot;: false, &quot;fillColor&quot;: &quot;#3388ff&quot;, &quot;fillOpacity&quot;: 0.2, &quot;fillRule&quot;: &quot;evenodd&quot;, &quot;lineCap&quot;: &quot;round&quot;, &quot;lineJoin&quot;: &quot;round&quot;, &quot;noClip&quot;: false, &quot;opacity&quot;: 1.0, &quot;smoothFactor&quot;: 1.0, &quot;stroke&quot;: true, &quot;weight&quot;: 3}\n",
       "            ).addTo(map_2dfbfd85d11c489d5dc069ad9568e1ea);\n",
       "        \n",
       "    \n",
       "            var poly_line_44fcc6f2e70f7610fc9a686eb98f1ea5 = L.polyline(\n",
       "                [[23.7554778, 90.3891975], [23.7557366, 90.3893293], [23.7561588, 90.3895278]],\n",
       "                {&quot;bubblingMouseEvents&quot;: true, &quot;color&quot;: &quot;#3388ff&quot;, &quot;dashArray&quot;: null, &quot;dashOffset&quot;: null, &quot;fill&quot;: false, &quot;fillColor&quot;: &quot;#3388ff&quot;, &quot;fillOpacity&quot;: 0.2, &quot;fillRule&quot;: &quot;evenodd&quot;, &quot;lineCap&quot;: &quot;round&quot;, &quot;lineJoin&quot;: &quot;round&quot;, &quot;noClip&quot;: false, &quot;opacity&quot;: 1.0, &quot;smoothFactor&quot;: 1.0, &quot;stroke&quot;: true, &quot;weight&quot;: 3}\n",
       "            ).addTo(map_2dfbfd85d11c489d5dc069ad9568e1ea);\n",
       "        \n",
       "    \n",
       "            var poly_line_b0425f931d28da46f3dc48870a174a24 = L.polyline(\n",
       "                [[23.7561588, 90.3895278], [23.7567374, 90.3897708]],\n",
       "                {&quot;bubblingMouseEvents&quot;: true, &quot;color&quot;: &quot;#3388ff&quot;, &quot;dashArray&quot;: null, &quot;dashOffset&quot;: null, &quot;fill&quot;: false, &quot;fillColor&quot;: &quot;#3388ff&quot;, &quot;fillOpacity&quot;: 0.2, &quot;fillRule&quot;: &quot;evenodd&quot;, &quot;lineCap&quot;: &quot;round&quot;, &quot;lineJoin&quot;: &quot;round&quot;, &quot;noClip&quot;: false, &quot;opacity&quot;: 1.0, &quot;smoothFactor&quot;: 1.0, &quot;stroke&quot;: true, &quot;weight&quot;: 3}\n",
       "            ).addTo(map_2dfbfd85d11c489d5dc069ad9568e1ea);\n",
       "        \n",
       "    \n",
       "            var poly_line_5892971024a905c6d7fae180e1467a90 = L.polyline(\n",
       "                [[23.7567374, 90.3897708], [23.7569647, 90.3898578], [23.7570154, 90.3898732]],\n",
       "                {&quot;bubblingMouseEvents&quot;: true, &quot;color&quot;: &quot;#3388ff&quot;, &quot;dashArray&quot;: null, &quot;dashOffset&quot;: null, &quot;fill&quot;: false, &quot;fillColor&quot;: &quot;#3388ff&quot;, &quot;fillOpacity&quot;: 0.2, &quot;fillRule&quot;: &quot;evenodd&quot;, &quot;lineCap&quot;: &quot;round&quot;, &quot;lineJoin&quot;: &quot;round&quot;, &quot;noClip&quot;: false, &quot;opacity&quot;: 1.0, &quot;smoothFactor&quot;: 1.0, &quot;stroke&quot;: true, &quot;weight&quot;: 3}\n",
       "            ).addTo(map_2dfbfd85d11c489d5dc069ad9568e1ea);\n",
       "        \n",
       "    \n",
       "            var poly_line_2b6bd11b10976bcf15ce5e73898654f6 = L.polyline(\n",
       "                [[23.7570154, 90.3898732], [23.7580022, 90.3901157]],\n",
       "                {&quot;bubblingMouseEvents&quot;: true, &quot;color&quot;: &quot;#3388ff&quot;, &quot;dashArray&quot;: null, &quot;dashOffset&quot;: null, &quot;fill&quot;: false, &quot;fillColor&quot;: &quot;#3388ff&quot;, &quot;fillOpacity&quot;: 0.2, &quot;fillRule&quot;: &quot;evenodd&quot;, &quot;lineCap&quot;: &quot;round&quot;, &quot;lineJoin&quot;: &quot;round&quot;, &quot;noClip&quot;: false, &quot;opacity&quot;: 1.0, &quot;smoothFactor&quot;: 1.0, &quot;stroke&quot;: true, &quot;weight&quot;: 3}\n",
       "            ).addTo(map_2dfbfd85d11c489d5dc069ad9568e1ea);\n",
       "        \n",
       "    \n",
       "            var poly_line_8c85d87f785a3d7f965dd75be704eafb = L.polyline(\n",
       "                [[23.7580022, 90.3901157], [23.7584733, 90.3899343]],\n",
       "                {&quot;bubblingMouseEvents&quot;: true, &quot;color&quot;: &quot;#3388ff&quot;, &quot;dashArray&quot;: null, &quot;dashOffset&quot;: null, &quot;fill&quot;: false, &quot;fillColor&quot;: &quot;#3388ff&quot;, &quot;fillOpacity&quot;: 0.2, &quot;fillRule&quot;: &quot;evenodd&quot;, &quot;lineCap&quot;: &quot;round&quot;, &quot;lineJoin&quot;: &quot;round&quot;, &quot;noClip&quot;: false, &quot;opacity&quot;: 1.0, &quot;smoothFactor&quot;: 1.0, &quot;stroke&quot;: true, &quot;weight&quot;: 3}\n",
       "            ).addTo(map_2dfbfd85d11c489d5dc069ad9568e1ea);\n",
       "        \n",
       "    \n",
       "            var poly_line_55598071854516eec78f6834c6c2edcb = L.polyline(\n",
       "                [[23.7584733, 90.3899343], [23.7589928, 90.389775], [23.7591578, 90.3897157]],\n",
       "                {&quot;bubblingMouseEvents&quot;: true, &quot;color&quot;: &quot;#3388ff&quot;, &quot;dashArray&quot;: null, &quot;dashOffset&quot;: null, &quot;fill&quot;: false, &quot;fillColor&quot;: &quot;#3388ff&quot;, &quot;fillOpacity&quot;: 0.2, &quot;fillRule&quot;: &quot;evenodd&quot;, &quot;lineCap&quot;: &quot;round&quot;, &quot;lineJoin&quot;: &quot;round&quot;, &quot;noClip&quot;: false, &quot;opacity&quot;: 1.0, &quot;smoothFactor&quot;: 1.0, &quot;stroke&quot;: true, &quot;weight&quot;: 3}\n",
       "            ).addTo(map_2dfbfd85d11c489d5dc069ad9568e1ea);\n",
       "        \n",
       "    \n",
       "            var poly_line_7fb560d8bb7c6da34ec6af4985afffc9 = L.polyline(\n",
       "                [[23.7591578, 90.3897157], [23.7591471, 90.3897652], [23.7591287, 90.3898101], [23.7590745, 90.3898655]],\n",
       "                {&quot;bubblingMouseEvents&quot;: true, &quot;color&quot;: &quot;#3388ff&quot;, &quot;dashArray&quot;: null, &quot;dashOffset&quot;: null, &quot;fill&quot;: false, &quot;fillColor&quot;: &quot;#3388ff&quot;, &quot;fillOpacity&quot;: 0.2, &quot;fillRule&quot;: &quot;evenodd&quot;, &quot;lineCap&quot;: &quot;round&quot;, &quot;lineJoin&quot;: &quot;round&quot;, &quot;noClip&quot;: false, &quot;opacity&quot;: 1.0, &quot;smoothFactor&quot;: 1.0, &quot;stroke&quot;: true, &quot;weight&quot;: 3}\n",
       "            ).addTo(map_2dfbfd85d11c489d5dc069ad9568e1ea);\n",
       "        \n",
       "    \n",
       "            var poly_line_889626b17646298f297c89d5d4857699 = L.polyline(\n",
       "                [[23.7590745, 90.3898655], [23.7589126, 90.3900548], [23.7587251, 90.3902128], [23.7585419, 90.3904055], [23.7584893, 90.3904439], [23.7584293, 90.3904716]],\n",
       "                {&quot;bubblingMouseEvents&quot;: true, &quot;color&quot;: &quot;#3388ff&quot;, &quot;dashArray&quot;: null, &quot;dashOffset&quot;: null, &quot;fill&quot;: false, &quot;fillColor&quot;: &quot;#3388ff&quot;, &quot;fillOpacity&quot;: 0.2, &quot;fillRule&quot;: &quot;evenodd&quot;, &quot;lineCap&quot;: &quot;round&quot;, &quot;lineJoin&quot;: &quot;round&quot;, &quot;noClip&quot;: false, &quot;opacity&quot;: 1.0, &quot;smoothFactor&quot;: 1.0, &quot;stroke&quot;: true, &quot;weight&quot;: 3}\n",
       "            ).addTo(map_2dfbfd85d11c489d5dc069ad9568e1ea);\n",
       "        \n",
       "    \n",
       "            map_2dfbfd85d11c489d5dc069ad9568e1ea.fitBounds(\n",
       "                [[23.7552083, 90.3890733], [23.7591578, 90.3904716]],\n",
       "                {}\n",
       "            );\n",
       "        \n",
       "    \n",
       "            var marker_a80727c9303ea73638864ba9e959ac80 = L.marker(\n",
       "                [23.754982765157592, 90.38911206226602],\n",
       "                {}\n",
       "            ).addTo(map_2dfbfd85d11c489d5dc069ad9568e1ea);\n",
       "        \n",
       "    \n",
       "            var icon_0e167d0fc2aaee17f802c2918f06638a = L.AwesomeMarkers.icon(\n",
       "                {&quot;extraClasses&quot;: &quot;fa-rotate-0&quot;, &quot;icon&quot;: &quot;info-sign&quot;, &quot;iconColor&quot;: &quot;white&quot;, &quot;markerColor&quot;: &quot;green&quot;, &quot;prefix&quot;: &quot;glyphicon&quot;}\n",
       "            );\n",
       "            marker_a80727c9303ea73638864ba9e959ac80.setIcon(icon_0e167d0fc2aaee17f802c2918f06638a);\n",
       "        \n",
       "    \n",
       "            var marker_1a615e27974e580ac02ad61300db2a12 = L.marker(\n",
       "                [23.758339988897625, 90.39049956246639],\n",
       "                {}\n",
       "            ).addTo(map_2dfbfd85d11c489d5dc069ad9568e1ea);\n",
       "        \n",
       "    \n",
       "            var icon_f09ef3866d0b292c582addaf19aa9037 = L.AwesomeMarkers.icon(\n",
       "                {&quot;extraClasses&quot;: &quot;fa-rotate-0&quot;, &quot;icon&quot;: &quot;info-sign&quot;, &quot;iconColor&quot;: &quot;white&quot;, &quot;markerColor&quot;: &quot;red&quot;, &quot;prefix&quot;: &quot;glyphicon&quot;}\n",
       "            );\n",
       "            marker_1a615e27974e580ac02ad61300db2a12.setIcon(icon_f09ef3866d0b292c582addaf19aa9037);\n",
       "        \n",
       "&lt;/script&gt;\" style=\"position:absolute;width:100%;height:100%;left:0;top:0;border:none !important;\" allowfullscreen webkitallowfullscreen mozallowfullscreen></iframe></div></div>"
      ],
      "text/plain": [
       "<folium.folium.Map at 0x2b545cd9c30>"
      ]
     },
     "execution_count": 32,
     "metadata": {},
     "output_type": "execute_result"
    }
   ],
   "source": [
    "uap_coord=(23.754982765157592, 90.38911206226602)\n",
    "junction_coord=(23.758339988897625, 90.39049956246639)\n",
    "l.calculate_shorted_distance(uap_coord,junction_coord)"
   ]
  },
  {
   "cell_type": "code",
   "execution_count": 33,
   "id": "8469a8c5",
   "metadata": {},
   "outputs": [
    {
     "ename": "SyntaxError",
     "evalue": "incomplete input (3300071394.py, line 1)",
     "output_type": "error",
     "traceback": [
      "\u001b[1;36m  Cell \u001b[1;32mIn [33], line 1\u001b[1;36m\u001b[0m\n\u001b[1;33m    '''\u001b[0m\n\u001b[1;37m    ^\u001b[0m\n\u001b[1;31mSyntaxError\u001b[0m\u001b[1;31m:\u001b[0m incomplete input\n"
     ]
    }
   ],
   "source": [
    "'''\n",
    "ox.config(log_console=True, use_cache=True)\n",
    "start_latlng = (23.752805311078138, 90.38445259823492) # define the start and end locations in latlng\n",
    "end_latlng = (23.754901278779005, 90.38900043951503)# location where you want to find your route\n",
    "place     = 'UAP'# find shortest route based on the mode of travel\n",
    "mode      = 'walk'        # 'drive', 'bike', 'walk'# find shortest path based on distance or time\n",
    "optimizer = 'time'        # 'length','time'# create graph from OSM within the boundaries of some \n",
    "\n",
    "# geocodable place(s)\n",
    "file_path='./osm_files/UAP_To_Farmgate.osm'\n",
    "graph = ox.graph_from_xml(file_path,simplify=True, retain_all=False)# find the nearest node to the start location\n",
    "#-------\n",
    "\n",
    "\n",
    "orig_node = ox.get_nearest_node(graph, start_latlng)# find the nearest node to the end location\n",
    "dest_node = ox.get_nearest_node(graph, end_latlng)#  find the shortest path\n",
    "shortest_route = nx.shortest_path(graph,\n",
    "                                  orig_node,\n",
    "                                  dest_node,\n",
    "                                  weight=optimizer)\n",
    "\n",
    "shortest_route_map = ox.plot_route_folium(graph, shortest_route)\n",
    "\n",
    "\n",
    "start_latlng = (start_latlng[0],start_latlng[1])\n",
    "end_latlng   = (end_latlng[0],end_latlng[1])\n",
    "start_marker = folium.Marker(\n",
    "            location = start_latlng,\n",
    "            icon = folium.Icon(color='green')\n",
    ")\n",
    "end_marker = folium.Marker(\n",
    "            location = end_latlng,\n",
    "            icon = folium.Icon(color='red')\n",
    ")# add the circle marker to the map\n",
    "start_marker.add_to(shortest_route_map)\n",
    "end_marker.add_to(shortest_route_map)\n",
    "shortest_route_map\n",
    "'''"
   ]
  }
 ],
 "metadata": {
  "kernelspec": {
   "display_name": "Python 3.10.6 ('ox')",
   "language": "python",
   "name": "python3"
  },
  "language_info": {
   "codemirror_mode": {
    "name": "ipython",
    "version": 3
   },
   "file_extension": ".py",
   "mimetype": "text/x-python",
   "name": "python",
   "nbconvert_exporter": "python",
   "pygments_lexer": "ipython3",
   "version": "3.10.6"
  },
  "vscode": {
   "interpreter": {
    "hash": "eae2fb6f1a51b711057a5cb5890ffe6b95b9ef7a315770d90a3aba490f93cee1"
   }
  }
 },
 "nbformat": 4,
 "nbformat_minor": 5
}
