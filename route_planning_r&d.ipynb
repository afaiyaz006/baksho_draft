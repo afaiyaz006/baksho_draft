{
 "cells": [],
 "metadata": {
  "kernelspec": {
   "display_name": "Python 3.10.5 64-bit",
   "language": "python",
   "name": "python3"
  },
  "language_info": {
   "codemirror_mode": {
    "name": "ipython",
    "version": 3
   },
   "file_extension": ".py",
   "mimetype": "text/x-python",
   "name": "python",
   "nbconvert_exporter": "python",
   "pygments_lexer": "ipython3",
   "version": "3.10.5"
  },
  "vscode": {
   "interpreter": {
    "hash": "f57d6ba6770a66f7b81c0b8a02d9f96821cf1eddc22b3d1644aed489918cb846"
   }
  }
 },
 "nbformat": 4,
 "nbformat_minor": 5
}
